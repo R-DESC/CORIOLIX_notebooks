{
 "cells": [
  {
   "cell_type": "markdown",
   "metadata": {},
   "source": [
    "## Example 4:  Find the current valid sea surface temp as measured by a thermosalinograph.\n",
    "\n"
   ]
  },
  {
   "cell_type": "code",
   "execution_count": 1,
   "metadata": {},
   "outputs": [
    {
     "name": "stderr",
     "output_type": "stream",
     "text": [
      "/opt/homebrew/lib/python3.10/site-packages/urllib3/connectionpool.py:1103: InsecureRequestWarning: Unverified HTTPS request is being made to host 'taani-pub-ship.taani.oregonstate.edu'. Adding certificate verification is strongly advised. See: https://urllib3.readthedocs.io/en/latest/advanced-usage.html#tls-warnings\n",
      "  warnings.warn(\n"
     ]
    }
   ],
   "source": [
    "# Import the python requests and json modules\n",
    "import requests\n",
    "import json\n",
    "from datetime import datetime, timedelta\n",
    "\n",
    "# 1. Build up a url that will query the sensor table and filter results by sensor name and sensor class\n",
    "base_url = \"https://taani-pub-ship.taani.oregonstate.edu/api/sensor/?sensor_name=Thermosalinograph&sensor_id=&sensor_class=Flowthrough\"\n",
    "\n",
    "# Make the query to the REST API\n",
    "response = requests.get(base_url, verify=False)\n",
    "\n",
    "# Load the response as json data\n",
    "responseJSON = json.loads(response.text)\n",
    "\n",
    "# Print all thermosalinograph sensors in the flowthrough system\n",
    "#print(json.dumps(responseJSON, indent=4, sort_keys=True))\n"
   ]
  },
  {
   "cell_type": "code",
   "execution_count": 2,
   "metadata": {},
   "outputs": [
    {
     "name": "stderr",
     "output_type": "stream",
     "text": [
      "/opt/homebrew/lib/python3.10/site-packages/urllib3/connectionpool.py:1103: InsecureRequestWarning: Unverified HTTPS request is being made to host 'taani-pub-ship.taani.oregonstate.edu'. Adding certificate verification is strongly advised. See: https://urllib3.readthedocs.io/en/latest/advanced-usage.html#tls-warnings\n",
      "  warnings.warn(\n"
     ]
    }
   ],
   "source": [
    "#2. Filter all sensors for enabled (active), flowthrough, and \"thermosalinograph\"\n",
    "\n",
    "sensor_url = \"https://taani-pub-ship.taani.oregonstate.edu/api/sensor/?sensor_name=Thermosalinograph&sensor_class=Flowthrough&enabled=true\"\n",
    "\n",
    "# Make the query to the REST API\n",
    "response = requests.get(sensor_url, verify=False)\n",
    "\n",
    "# Load the response as json data\n",
    "responseJSON = json.loads(response.text)\n",
    "\n",
    "# Print the element for the enabled thermosalinograph\n",
    "# print(json.dumps(responseJSON, indent=4, sort_keys=True))"
   ]
  },
  {
   "cell_type": "markdown",
   "metadata": {},
   "source": [
    "### Identify first TSG sensor_id \n",
    "### Sensor_ID: seatsg450712"
   ]
  },
  {
   "cell_type": "code",
   "execution_count": 3,
   "metadata": {},
   "outputs": [
    {
     "name": "stdout",
     "output_type": "stream",
     "text": [
      "[{'parameter_id': '9ded3f5f-6e16-456e-b991-fe3cc8ed7a44', 'short_name': 'Temperature', 'long_name': 'Temperature', 'description': 'Located at the Main Sensor Manifold, this thermosalinograph measures flowthrough sea surface temperature ranging from -5 to 35 degrees Celsius.', 'samos_data_category': 'Sea Surface Temperature', 'processing_status': 'raw', 'processing_symbol': 'temperature', 'diagnostic': False, 'gross_min': None, 'gross_max': None, 'recommended_min': None, 'recommended_max': None, 'global_min': -5.0, 'global_max': 35.0, 'local_min': None, 'local_max': None, 'detection_limit': None, 'saturated': None, 'bad_data_value': 9999.999, 'accuracy': 0.002, 'precision': None, 'resolution': 0.0001, 'data_model': 'SensorFloat1', 'data_table': 'sensor_float_1', 'archive_data_table': 'sensor_float_1_archive', 'data_fieldname': 'p1', 'flag_fieldname': 'f1', 'binned_default_model': 'BinnedDefaultFlowRolling', 'binned_default_table': 'binned_default_flow_rolling', 'binned_default_fieldname': 'parameter_32', 'binned_custom_model': 'BinnedCustomFlowRolling', 'binned_custom_table': 'binned_custom_flow_rolling', 'binned_custom_fieldname': 'parameter_32', 'ioos_category': 'Temperature', 'standard_name': 'TEMPSU01', 'units_abbrev': 'degrees_C', 'convention': '', 'associated_parameter_short_name': '', 'data_type': 'double', 'bin_type': 'linear', 'display_format': '4.2f', 'plot_color': '#FF0000', 'plot_type': 'time series', 'plot_style': 'spline', 'plot_ids_sensor': 'A', 'plot_ids_group': 'A', 'plot_ids_combination': '', 'show_timeseries': False, 'show_on_chart': False, 'sensor_id': 'seatsg450712'}]\n"
     ]
    },
    {
     "name": "stderr",
     "output_type": "stream",
     "text": [
      "/opt/homebrew/lib/python3.10/site-packages/urllib3/connectionpool.py:1103: InsecureRequestWarning: Unverified HTTPS request is being made to host 'taani-pub-ship.taani.oregonstate.edu'. Adding certificate verification is strongly advised. See: https://urllib3.readthedocs.io/en/latest/advanced-usage.html#tls-warnings\n",
      "  warnings.warn(\n"
     ]
    }
   ],
   "source": [
    "#4. find parameter_id for tempearture for the sensor if interest.\n",
    "\n",
    "parameter_url = \"https://taani-pub-ship.taani.oregonstate.edu/api/parameter/?sensor_id=seatsg450712&short_name=Temperature&format=json\"\n",
    "response = requests.get(parameter_url, verify=False)\n",
    "\n",
    "# Load the response as json data\n",
    "responseJSON = json.loads(response.text)\n",
    "\n",
    "print(responseJSON)"
   ]
  },
  {
   "cell_type": "code",
   "execution_count": 4,
   "metadata": {},
   "outputs": [
    {
     "name": "stdout",
     "output_type": "stream",
     "text": [
      "Temperature parameter_id = 9ded3f5f-6e16-456e-b991-fe3cc8ed7a44\n",
      "data_table = sensor_float_1\n",
      "data_fieldname = p1\n"
     ]
    }
   ],
   "source": [
    "#5. Isolate the temperature variable\n",
    "print(\"Temperature parameter_id = \"+responseJSON[0]['parameter_id'])\n",
    "print(\"data_table = \"+responseJSON[0]['data_table'])\n",
    "print(\"data_fieldname = \"+responseJSON[0]['data_fieldname'])"
   ]
  },
  {
   "cell_type": "code",
   "execution_count": 5,
   "metadata": {},
   "outputs": [
    {
     "name": "stdout",
     "output_type": "stream",
     "text": [
      "2024-07-15 14:03:41.222490 2024-07-15 13:03:41.222490\n"
     ]
    },
    {
     "name": "stderr",
     "output_type": "stream",
     "text": [
      "/opt/homebrew/lib/python3.10/site-packages/urllib3/connectionpool.py:1103: InsecureRequestWarning: Unverified HTTPS request is being made to host 'taani-pub-ship.taani.oregonstate.edu'. Adding certificate verification is strongly advised. See: https://urllib3.readthedocs.io/en/latest/advanced-usage.html#tls-warnings\n",
      "  warnings.warn(\n"
     ]
    }
   ],
   "source": [
    "sensor_float_url = \"https://taani-pub-ship.taani.oregonstate.edu/api/sensor_float_1/\"\n",
    "\n",
    "# Set the start date and time using the ISO8601 format, data stored in UTC\n",
    "\n",
    "end_date = datetime.now()\n",
    "start_date = end_date-timedelta(hours=0, minutes=60)\n",
    "\n",
    "print(str(end_date), str(start_date))\n",
    "\n",
    "query_url = sensor_float_url+'?date_after='+str(start_date)+'&date_before='+str(end_date)+'&format=json'\n",
    "\n",
    "response = requests.get(query_url, verify=False)\n",
    "# Load the response as json data\n",
    "responseJSON = json.loads(response.text)\n",
    "\n",
    "#print(responseJSON)\n",
    "#print(json.dumps(responseJSON, indent=4, sort_keys=True))"
   ]
  },
  {
   "cell_type": "code",
   "execution_count": 12,
   "metadata": {},
   "outputs": [
    {
     "name": "stdout",
     "output_type": "stream",
     "text": [
      "https://taani-pub-ship.taani.oregonstate.edu/api/binned_default_flow/?date_after=2024-07-15 13:03:41.222490&date_before=2024-07-15 14:03:41.222490&format=json\n",
      "60\n"
     ]
    }
   ],
   "source": [
    "binned_url = \"https://taani-pub-ship.taani.oregonstate.edu/api/binned_default_flow/\"\n",
    "query_url = binned_url+'?date_after='+str(start_date)+'&date_before='+str(end_date)+'&format=json'\n",
    "print(query_url)\n",
    "response = requests.get(query_url, verify=False)\n",
    "\n",
    "# Load the response as json data\n",
    "responseJSON = json.loads(response.text)\n",
    "\n",
    "print(len(responseJSON))\n",
    "#for i in responseJSON:\n",
    "#    print(i['datetime_center'])\n",
    "# print(json.dumps(responseJSON, indent=4, sort_keys=True))\n"
   ]
  },
  {
   "cell_type": "code",
   "execution_count": 7,
   "metadata": {},
   "outputs": [
    {
     "name": "stdout",
     "output_type": "stream",
     "text": [
      "60\n",
      "[58.020890466666664, 58.02090091666667, 58.02091533333334, 58.020930650000004, 58.02093911666666, 58.020946583333334, 58.020948849999996, 58.020948983333334, 58.020945366666666, 58.020940483333334, 58.0209346, 58.02092961666667, 58.02092531666667, 58.02092471666666, 58.0209291, 58.02093081666667, 58.020934133333334, 58.02093549999999, 58.02093665, 58.02094054999999, 58.0209445, 58.020949433333335, 58.02095510000001, 58.02096045, 58.020970133333336, 58.02098206666666, 58.020991766666675, 58.02100553333333, 58.02102248333334, 58.021036450000004, 58.02105196666666, 58.02106646666666, 58.021080399999995, 58.0210933, 58.021103700000005, 58.021118166666675, 58.02113033333333, 58.02114411666666, 58.021157366666664, 58.02116935000001, 58.02118348333333, 58.02120046666667, 58.02121643333333, 58.0212317, 58.021251050000004, 58.02126826666666, 58.02128778333334, 58.02130568333334, 58.02132611666666, 58.02133834999999, 58.02134854999999, 58.02135615, 58.02135929999999, 58.02136386666666, 58.02136778333333, 58.0213718, 58.02137488333333, 58.02137643333334, 58.02138346666667, 58.02138775]\n"
     ]
    }
   ],
   "source": [
    "#define an emptylist: \n",
    "latitude_list=[]\n",
    "for i in responseJSON:\n",
    "    latitude_list.append(i[\"latitude\"])\n",
    "print(len(latitude_list))\n",
    "print(latitude_list)\n",
    "\n",
    "latitude_maximum = max(latitude_list)\n",
    "latitude_minimum = min(latitude_list)"
   ]
  },
  {
   "cell_type": "code",
   "execution_count": 8,
   "metadata": {},
   "outputs": [
    {
     "name": "stdout",
     "output_type": "stream",
     "text": [
      "60\n",
      "[-147.73086511666668, -147.73077831666666, -147.73068471666664, -147.73058899999998, -147.73052565, -147.7304845, -147.73046578333333, -147.73047255, -147.73048763333333, -147.73052085, -147.73055876666666, -147.73059276666666, -147.73061093333334, -147.73061195, -147.73059791666668, -147.73058541666666, -147.73057298333333, -147.73055735, -147.7305413166667, -147.73052189999999, -147.7304992166667, -147.73047025, -147.73043475, -147.73038518333334, -147.73032418333332, -147.7302528, -147.73017236666666, -147.7300828333333, -147.72998593333332, -147.7298876, -147.72979311666668, -147.7296977, -147.72960363333334, -147.72951828333333, -147.72944323333334, -147.72936513333335, -147.72928488333335, -147.72920533333334, -147.72912198333333, -147.72903266666665, -147.72894426666664, -147.7288468, -147.72874691666667, -147.7286421166667, -147.72853064999998, -147.72841123333333, -147.72828901666665, -147.72817258333333, -147.7280624, -147.72797183333333, -147.72790433333333, -147.7278591, -147.7278342666667, -147.72781408333333, -147.72779453333334, -147.72777315, -147.72775033333335, -147.72772525, -147.7276909, -147.72764896666666]\n"
     ]
    }
   ],
   "source": [
    "longitude_list=[]\n",
    "for i in responseJSON:\n",
    "    longitude_list.append(i[\"longitude\"])\n",
    "print(len(longitude_list))\n",
    "print(longitude_list)\n",
    "\n",
    "longitude_maximum = max(longitude_list)\n",
    "longitude_minimum = min(longitude_list)"
   ]
  },
  {
   "cell_type": "code",
   "execution_count": 9,
   "metadata": {},
   "outputs": [],
   "source": [
    "#Import the modules needed to create the map\n",
    "%matplotlib inline\n",
    "import matplotlib.pyplot as plt\n",
    "import numpy as np\n",
    "from cartopy import crs as ccrs, feature as cfeature"
   ]
  },
  {
   "cell_type": "code",
   "execution_count": 10,
   "metadata": {},
   "outputs": [
    {
     "name": "stdout",
     "output_type": "stream",
     "text": [
      "(-147.73086511666668, -147.72764896666666, 58.020890466666664, 58.02138775)\n"
     ]
    }
   ],
   "source": [
    "extents = (longitude_minimum,longitude_maximum,latitude_minimum,latitude_maximum)\n",
    "print(extents)"
   ]
  },
  {
   "cell_type": "code",
   "execution_count": 11,
   "metadata": {},
   "outputs": [
    {
     "data": {
      "text/plain": [
       "<matplotlib.image.AxesImage at 0x113254b80>"
      ]
     },
     "execution_count": 11,
     "metadata": {},
     "output_type": "execute_result"
    },
    {
     "data": {
      "image/png": "[encoded data removed]",
      "text/plain": [
       "<Figure size 1100x850 with 1 Axes>"
      ]
     },
     "metadata": {},
     "output_type": "display_data"
    }
   ],
   "source": [
    "# Imports\n",
    "import warnings\n",
    "import matplotlib.pyplot as plt\n",
    "import numpy as np\n",
    "from cartopy import crs as ccrs, feature as cfeature\n",
    "\n",
    "# empty lists to add lat and lon to later\n",
    "lons=[]\n",
    "lats=[]\n",
    "temp=[]\n",
    "\n",
    "# Method for plotting lines\n",
    "for i in responseJSON:\n",
    "    x = i['longitude']\n",
    "    y = i['latitude']\n",
    "    lons.append(x)\n",
    "    lats.append(y)\n",
    "\n",
    "#  Suppress warnings issued by Cartopy when downloading data files\n",
    "warnings.filterwarnings('ignore')\n",
    "\n",
    "fig = plt.figure(figsize=(11, 8.5))\n",
    "projMoll = ccrs.Mollweide(central_longitude=0)\n",
    "ax = plt.subplot(1, 1, 1, projection=projMoll)\n",
    "ax.plot(lons, lats)\n",
    "\n",
    "# Method for plotting points\n",
    "for i in responseJSON:\n",
    "    ms = i['parameter_01']['a'][4]/2.2\n",
    "    ax.plot(i['longitude'], i['latitude'], '^', markersize=ms)\n",
    "\n",
    "ax.set_title(\"Mollweide Projection\")\n",
    "ax.coastlines()\n",
    "ax.add_feature(cfeature.BORDERS, linewidth=0.5, edgecolor='blue')\n",
    "ax.stock_img()"
   ]
  },
  {
   "cell_type": "code",
   "execution_count": 22,
   "metadata": {},
   "outputs": [
    {
     "name": "stdout",
     "output_type": "stream",
     "text": [
      "{'lon': -74.006, 'lat': 40.7128}\n"
     ]
    }
   ],
   "source": [
    "new_york = dict(lon=-74.0060, lat=40.7128)\n",
    "print(new_york)"
   ]
  },
  {
   "cell_type": "code",
   "execution_count": null,
   "metadata": {},
   "outputs": [],
   "source": []
  }
 ],
 "metadata": {
  "kernelspec": {
   "display_name": "Python 3 (ipykernel)",
   "language": "python",
   "name": "python3"
  },
  "language_info": {
   "codemirror_mode": {
    "name": "ipython",
    "version": 3
   },
   "file_extension": ".py",
   "mimetype": "text/x-python",
   "name": "python",
   "nbconvert_exporter": "python",
   "pygments_lexer": "ipython3",
   "version": "3.10.9"
  }
 },
 "nbformat": 4,
 "nbformat_minor": 4
}
