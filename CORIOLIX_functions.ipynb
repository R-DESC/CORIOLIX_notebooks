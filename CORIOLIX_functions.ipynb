{
 "cells": [
  {
   "cell_type": "markdown",
   "id": "741a3e11-264a-49f3-8960-131be997ca1e",
   "metadata": {},
   "source": [
    "### Function One: make_base_url\n",
    "#### Builds a url based on sensor name, table type (Full, Binned, Binned_Geo), and enabled status (True or False)."
   ]
  },
  {
   "cell_type": "code",
   "execution_count": 1,
   "id": "8228b6ba-7c10-4461-8ae4-3e6e4625e9bb",
   "metadata": {},
   "outputs": [],
   "source": [
    "import requests\n",
    "import json\n",
    "import urllib.parse\n",
    "from datetime import datetime, timedelta  # For help with managing ISO dates\n",
    "\n",
    "\n",
    "# Supress certificate warnings.\n",
    "from urllib3.exceptions import InsecureRequestWarning\n",
    "requests.packages.urllib3.disable_warnings(category=InsecureRequestWarning)\n",
    "\n",
    "def make_base_url(api_url, sensor_name, parameter_short_name, enabled_status, table_type):\n",
    "    \n",
    "    # Step 1: Metadata URLs can be made by adding the sensor and parameter endpoints to the base url.\n",
    "    sensor_url = api_url + \"/sensor\"\n",
    "    parameter_url = api_url + \"/parameter\"\n",
    "\n",
    "    # Step 2: Find an enabled TSG sensor that we can query for a current temperature value.\n",
    "    # A full list of vessel sensor is available at the sensor_url.  This list can be filtered on any filed.\n",
    "    # Here we will filter on sensor_name (we know we are looking for a TSG) and on the enabled field (we want an active sensor).\n",
    "    query_url = sensor_url + \"/?sensor_name=\"+sensor_name+\"&enabled=\"+enabled_status\n",
    "\n",
    "    # Make the query to the REST API\n",
    "    response = requests.get(query_url, verify=False)\n",
    "\n",
    "    # Load the response as json data\n",
    "    responseJSON = json.loads(response.text)\n",
    "\n",
    "    # Grab the first sensor in the list.\n",
    "    for sensor in responseJSON:\n",
    "        # Print the sensor id for each record\n",
    "        sensor_id = responseJSON[0][\"sensor_id\"]\n",
    "\n",
    "    # Step 3. Now that we know the sensor_id for an online/active Thermosalinograph, we want to know where to look to find the data.\n",
    "    # We'll need to find 4 additional peices of information before we can make a data request.  We need to know what table the data is stored in \n",
    "    # (data_table), and we need to know what field in that table the data is in (data_fieldname). We want to know the field that the data flags are in,\n",
    "    # We also want the units for the parameter.\n",
    "\n",
    "    parameter_query_url = parameter_url+\"/?sensor_id=\"+sensor_id+\"&short_name=\"+parameter_short_name+\"&format=json\"\n",
    "    response = requests.get(parameter_query_url, verify=False)\n",
    "\n",
    "    # Load the response as json data\n",
    "    responseJSON = json.loads(response.text)\n",
    "\n",
    "    if table_type == \"Full\":\n",
    "        # Create variables to store table and field information\n",
    "        data_table = responseJSON[0]['data_table']\n",
    "        data_field = responseJSON[0]['data_fieldname']\n",
    "        data_url = api_url + \"/\" + data_table\n",
    "\n",
    "    elif table_type == \"Binned_Default\":\n",
    "        # Create variables to store table and field information\n",
    "        data_table = responseJSON[0]['binned_default_table']\n",
    "        data_field = responseJSON[0]['binned_default_fieldname']\n",
    "        data_url = api_url + \"/\" + data_table[:-8] + \"_map\"\n",
    "\n",
    "    elif table_type == \"Binned_Custom\":\n",
    "        # Create variables to store table and field information\n",
    "        data_table = responseJSON[0]['binned_custom_table']\n",
    "        data_field = responseJSON[0]['binned_custom_fieldname']\n",
    "        data_url = api_url + \"/\" + data_table[:-8] + \"_map\"\n",
    "\n",
    "    else:\n",
    "        pass\n",
    "    \n",
    "    print(\"Thermosalinograph data can be accessed here: \" + data_url)\n",
    "    print(\"Thermosalinograph temperature data is stored in field: \" + data_field)\n",
    "    \n",
    "    return (data_url)"
   ]
  },
  {
   "cell_type": "code",
   "execution_count": 2,
   "id": "bed87d82-7e6b-4332-b931-6c36f28c948f",
   "metadata": {},
   "outputs": [
    {
     "name": "stdout",
     "output_type": "stream",
     "text": [
      "Thermosalinograph data can be accessed here: https://taani-pub-ship.taani.oregonstate.edu/api/binned_default_flow_map\n",
      "Thermosalinograph temperature data is stored in field: parameter_32\n"
     ]
    }
   ],
   "source": [
    "data_url = make_base_url(\"https://taani-pub-ship.taani.oregonstate.edu/api\", \"Thermosalinograph\", \"Temperature\", \"true\", \"Binned_Default\")"
   ]
  },
  {
   "cell_type": "code",
   "execution_count": 3,
   "id": "77d1d668-f03e-478f-8446-851b024c9355",
   "metadata": {},
   "outputs": [
    {
     "name": "stdout",
     "output_type": "stream",
     "text": [
      "https://taani-pub-ship.taani.oregonstate.edu/api/binned_default_flow_map?date_after=2024-09-06%2021%3A15%3A14.659322&format=json\n"
     ]
    }
   ],
   "source": [
    "# All datetimes are UTC, so get the current UTC time and take off one second\n",
    "time_now = datetime.utcnow()\n",
    "query_time = time_now - timedelta(hours=1)\n",
    "\n",
    "# % encode the space between date and time in the query_time\n",
    "query_time=urllib.parse.quote(str(query_time), safe='')\n",
    "\n",
    "query_url = data_url+'?date_after='+str(query_time)+'&format=json'\n",
    "response = requests.get(query_url, verify=False)\n",
    "\n",
    "# Load the response as json data\n",
    "responseJSON = json.loads(response.text)\n",
    "\n",
    "print(query_url)\n"
   ]
  },
  {
   "cell_type": "code",
   "execution_count": null,
   "id": "fa75f8b7",
   "metadata": {},
   "outputs": [],
   "source": []
  }
 ],
 "metadata": {
  "kernelspec": {
   "display_name": "Python 3 (ipykernel)",
   "language": "python",
   "name": "python3"
  },
  "language_info": {
   "codemirror_mode": {
    "name": "ipython",
    "version": 3
   },
   "file_extension": ".py",
   "mimetype": "text/x-python",
   "name": "python",
   "nbconvert_exporter": "python",
   "pygments_lexer": "ipython3",
   "version": "3.10.9"
  }
 },
 "nbformat": 4,
 "nbformat_minor": 5
}
